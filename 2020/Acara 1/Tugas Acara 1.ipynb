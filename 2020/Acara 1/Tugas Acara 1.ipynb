{
 "metadata": {
  "language_info": {
   "codemirror_mode": {
    "name": "ipython",
    "version": 3
   },
   "file_extension": ".py",
   "mimetype": "text/x-python",
   "name": "python",
   "nbconvert_exporter": "python",
   "pygments_lexer": "ipython3",
   "version": 3
  },
  "orig_nbformat": 2
 },
 "nbformat": 4,
 "nbformat_minor": 2,
 "cells": [
  {
   "source": [
    "<center> <h1> Tugas Acara 1 </h1> </center>\n",
    "<center> <h2> Sistem Persamaan Linear </h2> </center>\n",
    "\n",
    "1.\tMenggunakan kode program iterasi metode __Jacobi__ tentukan nilai `x1`, `x2`, dan `x3` untuk persamaan:\n",
    "\n",
    "<center>9x + 2x<sup>2</sup> + 4x<sup>3</sup> = 20 </center>\n",
    "<center>1x + 10x<sup>2</sup> + 4x<sup>3</sup> = 6 </center>\n",
    "<center>2x + 4x<sup>2</sup> + 10x<sup>3</sup> = -15 </center>\n",
    "\n",
    "Dengan maksimal nilai `iterasi` __200__, `toleransi` __0.00001__, `initial value` sembarang. TAPI dengan nilai dan matriks yang dapat diinput oleh user\n",
    "\n",
    "Referensi: https://www.geeksforgeeks.org/take-matrix-input-from-user-in-python/\n"
   ],
   "cell_type": "markdown",
   "metadata": {}
  },
  {
   "cell_type": "code",
   "execution_count": null,
   "metadata": {},
   "outputs": [],
   "source": [
    "# Tulis kode python disini\n",
    "# Hanya menggunakan 1 tab"
   ]
  },
  {
   "source": [
    "2. Jelaskan fungsi iterasi dan nilai toleransi dalam metode penyelesaian persamaan linear ber iterasi"
   ],
   "cell_type": "markdown",
   "metadata": {}
  },
  {
   "source": [
    "Tuliskan jawaban no.2 pada tab `markdown` ini\n",
    "\n",
    "Jawaban :"
   ],
   "cell_type": "markdown",
   "metadata": {}
  },
  {
   "cell_type": "code",
   "execution_count": null,
   "metadata": {},
   "outputs": [],
   "source": []
  }
 ]
}